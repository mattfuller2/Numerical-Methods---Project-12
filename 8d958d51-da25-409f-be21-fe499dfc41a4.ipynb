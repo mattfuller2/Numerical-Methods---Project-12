{
 "cells": [
  {
   "cell_type": "markdown",
   "metadata": {},
   "source": [
    "Hello Matthew!\n",
    "\n",
    "I’m happy to review your project today.\n",
    "I will mark your mistakes and give you some hints how it is possible to fix them. We are getting ready for real job, where your team leader/senior colleague will do exactly the same. Don't worry and study with pleasure!\n",
    "\n",
    "Below you will find my comments - **please do not move, modify or delete them**.\n",
    "\n",
    "You can find my comments in green, yellow or red boxes like this:\n",
    "\n",
    "<div class=\"alert alert-block alert-success\">\n",
    "<b>Reviewer's comment</b> <a class=\"tocSkip\"></a>\n",
    "\n",
    "Success. Everything is done succesfully.\n",
    "</div>\n",
    "\n",
    "<div class=\"alert alert-block alert-warning\">\n",
    "<b>Reviewer's comment</b> <a class=\"tocSkip\"></a>\n",
    "\n",
    "Remarks. Some recommendations.\n",
    "</div>\n",
    "\n",
    "<div class=\"alert alert-block alert-danger\">\n",
    "\n",
    "<b>Reviewer's comment</b> <a class=\"tocSkip\"></a>\n",
    "\n",
    "Needs fixing. The block requires some corrections. Work can't be accepted with the red comments.\n",
    "</div>\n",
    "\n",
    "You can answer me by using this:\n",
    "\n",
    "<div class=\"alert alert-block alert-info\">\n",
    "<b>Student answer.</b> <a class=\"tocSkip\"></a>\n",
    "\n",
    "Text here.\n",
    "</div>"
   ]
  },
  {
   "cell_type": "markdown",
   "metadata": {},
   "source": [
    "Rusty Bargain used car sales service is developing an app to attract new customers. In that app, you can quickly find out the market value of your car. You have access to historical data: technical specifications, trim versions, and prices. You need to build the model to determine the value. \n",
    "\n",
    "Rusty Bargain is interested in:\n",
    "\n",
    "- the quality of the prediction;\n",
    "- the speed of the prediction;\n",
    "- the time required for training"
   ]
  },
  {
   "cell_type": "markdown",
   "metadata": {},
   "source": [
    "## Data preparation"
   ]
  },
  {
   "cell_type": "code",
   "execution_count": 1,
   "metadata": {},
   "outputs": [
    {
     "name": "stdout",
     "output_type": "stream",
     "text": [
      "        DateCrawled  Price VehicleType  RegistrationYear Gearbox  Power  \\\n",
      "0  24/03/2016 11:52    480         NaN              1993  manual      0   \n",
      "1  24/03/2016 10:58  18300       coupe              2011  manual    190   \n",
      "2  14/03/2016 12:52   9800         suv              2004    auto    163   \n",
      "3  17/03/2016 16:54   1500       small              2001  manual     75   \n",
      "4  31/03/2016 17:25   3600       small              2008  manual     69   \n",
      "\n",
      "   Model  Mileage  RegistrationMonth  FuelType       Brand NotRepaired  \\\n",
      "0   golf   150000                  0    petrol  volkswagen         NaN   \n",
      "1    NaN   125000                  5  gasoline        audi         yes   \n",
      "2  grand   125000                  8  gasoline        jeep         NaN   \n",
      "3   golf   150000                  6    petrol  volkswagen          no   \n",
      "4  fabia    90000                  7  gasoline       skoda          no   \n",
      "\n",
      "        DateCreated  NumberOfPictures  PostalCode          LastSeen  \n",
      "0  24/03/2016 00:00                 0       70435  07/04/2016 03:16  \n",
      "1  24/03/2016 00:00                 0       66954  07/04/2016 01:46  \n",
      "2  14/03/2016 00:00                 0       90480  05/04/2016 12:47  \n",
      "3  17/03/2016 00:00                 0       91074  17/03/2016 17:40  \n",
      "4  31/03/2016 00:00                 0       60437  06/04/2016 10:17  \n",
      "\n",
      "<class 'pandas.core.frame.DataFrame'>\n",
      "RangeIndex: 354369 entries, 0 to 354368\n",
      "Data columns (total 16 columns):\n",
      " #   Column             Non-Null Count   Dtype \n",
      "---  ------             --------------   ----- \n",
      " 0   DateCrawled        354369 non-null  object\n",
      " 1   Price              354369 non-null  int64 \n",
      " 2   VehicleType        316879 non-null  object\n",
      " 3   RegistrationYear   354369 non-null  int64 \n",
      " 4   Gearbox            334536 non-null  object\n",
      " 5   Power              354369 non-null  int64 \n",
      " 6   Model              334664 non-null  object\n",
      " 7   Mileage            354369 non-null  int64 \n",
      " 8   RegistrationMonth  354369 non-null  int64 \n",
      " 9   FuelType           321474 non-null  object\n",
      " 10  Brand              354369 non-null  object\n",
      " 11  NotRepaired        283215 non-null  object\n",
      " 12  DateCreated        354369 non-null  object\n",
      " 13  NumberOfPictures   354369 non-null  int64 \n",
      " 14  PostalCode         354369 non-null  int64 \n",
      " 15  LastSeen           354369 non-null  object\n",
      "dtypes: int64(7), object(9)\n",
      "memory usage: 43.3+ MB\n"
     ]
    },
    {
     "data": {
      "text/html": [
       "<div>\n",
       "<style scoped>\n",
       "    .dataframe tbody tr th:only-of-type {\n",
       "        vertical-align: middle;\n",
       "    }\n",
       "\n",
       "    .dataframe tbody tr th {\n",
       "        vertical-align: top;\n",
       "    }\n",
       "\n",
       "    .dataframe thead th {\n",
       "        text-align: right;\n",
       "    }\n",
       "</style>\n",
       "<table border=\"1\" class=\"dataframe\">\n",
       "  <thead>\n",
       "    <tr style=\"text-align: right;\">\n",
       "      <th></th>\n",
       "      <th>Price</th>\n",
       "      <th>RegistrationYear</th>\n",
       "      <th>Power</th>\n",
       "      <th>Mileage</th>\n",
       "      <th>RegistrationMonth</th>\n",
       "      <th>NumberOfPictures</th>\n",
       "      <th>PostalCode</th>\n",
       "    </tr>\n",
       "  </thead>\n",
       "  <tbody>\n",
       "    <tr>\n",
       "      <th>count</th>\n",
       "      <td>354369.000000</td>\n",
       "      <td>354369.000000</td>\n",
       "      <td>354369.000000</td>\n",
       "      <td>354369.000000</td>\n",
       "      <td>354369.000000</td>\n",
       "      <td>354369.0</td>\n",
       "      <td>354369.000000</td>\n",
       "    </tr>\n",
       "    <tr>\n",
       "      <th>mean</th>\n",
       "      <td>4416.656776</td>\n",
       "      <td>2004.234448</td>\n",
       "      <td>110.094337</td>\n",
       "      <td>128211.172535</td>\n",
       "      <td>5.714645</td>\n",
       "      <td>0.0</td>\n",
       "      <td>50508.689087</td>\n",
       "    </tr>\n",
       "    <tr>\n",
       "      <th>std</th>\n",
       "      <td>4514.158514</td>\n",
       "      <td>90.227958</td>\n",
       "      <td>189.850405</td>\n",
       "      <td>37905.341530</td>\n",
       "      <td>3.726421</td>\n",
       "      <td>0.0</td>\n",
       "      <td>25783.096248</td>\n",
       "    </tr>\n",
       "    <tr>\n",
       "      <th>min</th>\n",
       "      <td>0.000000</td>\n",
       "      <td>1000.000000</td>\n",
       "      <td>0.000000</td>\n",
       "      <td>5000.000000</td>\n",
       "      <td>0.000000</td>\n",
       "      <td>0.0</td>\n",
       "      <td>1067.000000</td>\n",
       "    </tr>\n",
       "    <tr>\n",
       "      <th>25%</th>\n",
       "      <td>1050.000000</td>\n",
       "      <td>1999.000000</td>\n",
       "      <td>69.000000</td>\n",
       "      <td>125000.000000</td>\n",
       "      <td>3.000000</td>\n",
       "      <td>0.0</td>\n",
       "      <td>30165.000000</td>\n",
       "    </tr>\n",
       "    <tr>\n",
       "      <th>50%</th>\n",
       "      <td>2700.000000</td>\n",
       "      <td>2003.000000</td>\n",
       "      <td>105.000000</td>\n",
       "      <td>150000.000000</td>\n",
       "      <td>6.000000</td>\n",
       "      <td>0.0</td>\n",
       "      <td>49413.000000</td>\n",
       "    </tr>\n",
       "    <tr>\n",
       "      <th>75%</th>\n",
       "      <td>6400.000000</td>\n",
       "      <td>2008.000000</td>\n",
       "      <td>143.000000</td>\n",
       "      <td>150000.000000</td>\n",
       "      <td>9.000000</td>\n",
       "      <td>0.0</td>\n",
       "      <td>71083.000000</td>\n",
       "    </tr>\n",
       "    <tr>\n",
       "      <th>max</th>\n",
       "      <td>20000.000000</td>\n",
       "      <td>9999.000000</td>\n",
       "      <td>20000.000000</td>\n",
       "      <td>150000.000000</td>\n",
       "      <td>12.000000</td>\n",
       "      <td>0.0</td>\n",
       "      <td>99998.000000</td>\n",
       "    </tr>\n",
       "  </tbody>\n",
       "</table>\n",
       "</div>"
      ],
      "text/plain": [
       "               Price  RegistrationYear          Power        Mileage  \\\n",
       "count  354369.000000     354369.000000  354369.000000  354369.000000   \n",
       "mean     4416.656776       2004.234448     110.094337  128211.172535   \n",
       "std      4514.158514         90.227958     189.850405   37905.341530   \n",
       "min         0.000000       1000.000000       0.000000    5000.000000   \n",
       "25%      1050.000000       1999.000000      69.000000  125000.000000   \n",
       "50%      2700.000000       2003.000000     105.000000  150000.000000   \n",
       "75%      6400.000000       2008.000000     143.000000  150000.000000   \n",
       "max     20000.000000       9999.000000   20000.000000  150000.000000   \n",
       "\n",
       "       RegistrationMonth  NumberOfPictures     PostalCode  \n",
       "count      354369.000000          354369.0  354369.000000  \n",
       "mean            5.714645               0.0   50508.689087  \n",
       "std             3.726421               0.0   25783.096248  \n",
       "min             0.000000               0.0    1067.000000  \n",
       "25%             3.000000               0.0   30165.000000  \n",
       "50%             6.000000               0.0   49413.000000  \n",
       "75%             9.000000               0.0   71083.000000  \n",
       "max            12.000000               0.0   99998.000000  "
      ]
     },
     "execution_count": 1,
     "metadata": {},
     "output_type": "execute_result"
    }
   ],
   "source": [
    "import pandas as pd\n",
    "import numpy as np\n",
    "\n",
    "# Load dataset\n",
    "df = pd.read_csv('/datasets/car_data.csv')\n",
    "\n",
    "# Check the first few rows\n",
    "print(df.head())\n",
    "print()\n",
    "\n",
    "# Inspect the dataset\n",
    "df.info()\n",
    "df.describe()\n"
   ]
  },
  {
   "cell_type": "code",
   "execution_count": 2,
   "metadata": {},
   "outputs": [],
   "source": [
    "# Drop columns that are not useful for prediction\n",
    "df.drop(columns=['DateCrawled', 'DateCreated', 'NumberOfPictures', 'PostalCode', 'LastSeen'], inplace=True)\n",
    "\n",
    "# Remove rows with missing price or price equal to 0 (unrealistic)\n",
    "df = df[df['Price'] > 0].dropna(subset=['Price'])\n",
    "\n",
    "# Handle missing categorical data\n",
    "df['VehicleType'].fillna('other', inplace=True)\n",
    "df['Gearbox'].fillna('unknown', inplace=True)\n",
    "df['FuelType'].fillna('other', inplace=True)\n",
    "df['NotRepaired'].fillna('unknown', inplace=True)"
   ]
  },
  {
   "cell_type": "code",
   "execution_count": 3,
   "metadata": {},
   "outputs": [],
   "source": [
    "# Categorical feature encoding\n",
    "df = pd.get_dummies(df, drop_first=True)\n",
    "\n",
    "# Split features and target\n",
    "X = df.drop(columns='Price')\n",
    "y = df['Price']\n",
    "\n",
    "# Train-test split (80% training, 20% testing)\n",
    "from sklearn.model_selection import train_test_split\n",
    "X_train, X_test, y_train, y_test = train_test_split(X, y, test_size=0.2, random_state=42)"
   ]
  },
  {
   "cell_type": "markdown",
   "metadata": {},
   "source": [
    "<div class=\"alert alert-block alert-success\">\n",
    "<b>Reviewer's comment V1</b> <a class=\"tocSkip\"></a>\n",
    "\n",
    "Correct. Good job!\n",
    "    \n",
    "</div>"
   ]
  },
  {
   "cell_type": "markdown",
   "metadata": {},
   "source": [
    "## Model training"
   ]
  },
  {
   "cell_type": "code",
   "execution_count": 4,
   "metadata": {},
   "outputs": [
    {
     "name": "stdout",
     "output_type": "stream",
     "text": [
      "Linear Regression RMSE: 3123.73\n"
     ]
    }
   ],
   "source": [
    "from sklearn.preprocessing import StandardScaler\n",
    "from sklearn.compose import ColumnTransformer\n",
    "from sklearn.pipeline import Pipeline\n",
    "from sklearn.linear_model import LinearRegression\n",
    "from sklearn.metrics import mean_squared_error\n",
    "\n",
    "# Let's assume these are your numerical features\n",
    "numerical_features = ['RegistrationYear', 'Power', 'Mileage']  # Replace with your actual numerical columns\n",
    "\n",
    "# List of all features\n",
    "all_features = X_train.columns.tolist()\n",
    "\n",
    "# Create a ColumnTransformer to apply StandardScaler to only the numerical features\n",
    "preprocessor = ColumnTransformer(\n",
    "    transformers=[\n",
    "        ('num', StandardScaler(), numerical_features)\n",
    "    ],\n",
    "    remainder='passthrough'  # Keeps non-numerical features unchanged\n",
    ")\n",
    "\n",
    "# Create a pipeline that first applies the preprocessor and then the Linear Regression model\n",
    "lr_pipeline = Pipeline(steps=[\n",
    "    ('preprocessor', preprocessor),\n",
    "    ('model', LinearRegression())\n",
    "])\n",
    "\n",
    "# Train the pipeline on the training data\n",
    "lr_pipeline.fit(X_train, y_train)\n",
    "\n",
    "# Predict on the test data\n",
    "y_pred_lr = lr_pipeline.predict(X_test)\n",
    "\n",
    "# Calculate RMSE for the Linear Regression model\n",
    "rmse_lr = mean_squared_error(y_test, y_pred_lr, squared=False)\n",
    "print(f\"Linear Regression RMSE: {rmse_lr:.2f}\")"
   ]
  },
  {
   "cell_type": "code",
   "execution_count": 5,
   "metadata": {},
   "outputs": [
    {
     "name": "stdout",
     "output_type": "stream",
     "text": [
      "Linear Regression Training Time: 13.8219 seconds\n",
      "Linear Regression Prediction Time: 0.1244 seconds\n",
      "Linear Regression RMSE: 3123.73\n"
     ]
    }
   ],
   "source": [
    "# Measuring Time for Decision Tree\n",
    "\n",
    "import time\n",
    "\n",
    "# Initialize the Linear Regression model\n",
    "lr_model = LinearRegression()\n",
    "\n",
    "# Measure training time\n",
    "start_time_train = time.time()\n",
    "lr_model.fit(X_train, y_train)\n",
    "end_time_train = time.time()\n",
    "training_time_lr = end_time_train - start_time_train\n",
    "\n",
    "print(f\"Linear Regression Training Time: {training_time_lr:.4f} seconds\")\n",
    "\n",
    "# Measure prediction time\n",
    "start_time_predict = time.time()\n",
    "y_pred_lr = lr_model.predict(X_test)\n",
    "end_time_predict = time.time()\n",
    "prediction_time_lr = end_time_predict - start_time_predict\n",
    "\n",
    "print(f\"Linear Regression Prediction Time: {prediction_time_lr:.4f} seconds\")\n",
    "\n",
    "# Calculate RMSE for the Linear Regression model\n",
    "rmse_lr = mean_squared_error(y_test, y_pred_lr, squared=False)\n",
    "print(f\"Linear Regression RMSE: {rmse_lr:.2f}\")\n"
   ]
  },
  {
   "cell_type": "markdown",
   "metadata": {},
   "source": [
    "<div class=\"alert alert-block alert-danger\">\n",
    "<b>Reviewer's comment V1</b> <a class=\"tocSkip\"></a>\n",
    "\n",
    "If you're going to use any linear model, you need to scale all numerical features. Only numerical but not encoded ones.\n",
    "    \n",
    "</div>"
   ]
  },
  {
   "cell_type": "markdown",
   "metadata": {},
   "source": [
    "<div class=\"alert alert-block alert-success\">\n",
    "<b>Reviewer's comment V2</b> <a class=\"tocSkip\"></a>\n",
    "\n",
    "Okay:)\n",
    "    \n",
    "</div>"
   ]
  },
  {
   "cell_type": "code",
   "execution_count": 6,
   "metadata": {},
   "outputs": [
    {
     "name": "stdout",
     "output_type": "stream",
     "text": [
      "Decision Tree Training Time: 6.4018 seconds\n",
      "Decision Tree Prediction Time: 0.0793 seconds\n",
      "Decision Tree RMSE: 2046.31\n"
     ]
    }
   ],
   "source": [
    "# 2.2 Decision Tree Regressor\n",
    "\n",
    "from sklearn.tree import DecisionTreeRegressor\n",
    "\n",
    "# Train decision tree model\n",
    "dt_model = DecisionTreeRegressor(random_state=42)\n",
    "\n",
    "# Measure training time\n",
    "start_time_train = time.time()\n",
    "dt_model.fit(X_train, y_train)\n",
    "end_time_train = time.time()\n",
    "training_time_dt = end_time_train - start_time_train\n",
    "\n",
    "print(f\"Decision Tree Training Time: {training_time_dt:.4f} seconds\")\n",
    "\n",
    "# Measure prediction time\n",
    "start_time_predict = time.time()\n",
    "y_pred_dt = dt_model.predict(X_test)\n",
    "end_time_predict = time.time()\n",
    "prediction_time_dt = end_time_predict - start_time_predict\n",
    "\n",
    "print(f\"Decision Tree Prediction Time: {prediction_time_dt:.4f} seconds\")\n",
    "\n",
    "# Calculate RMSE\n",
    "rmse_dt = mean_squared_error(y_test, y_pred_dt, squared=False)\n",
    "print(f\"Decision Tree RMSE: {rmse_dt:.2f}\")\n"
   ]
  },
  {
   "cell_type": "code",
   "execution_count": 7,
   "metadata": {},
   "outputs": [
    {
     "name": "stdout",
     "output_type": "stream",
     "text": [
      "Random Forest Training Time: 79.9564 seconds\n",
      "Random Forest Prediction Time: 0.6689 seconds\n",
      "Random Forest RMSE: 1647.06\n"
     ]
    }
   ],
   "source": [
    "# 2.3 Random Forest Regressor\n",
    "\n",
    "from sklearn.ensemble import RandomForestRegressor\n",
    "\n",
    "# Train random forest model\n",
    "rf_model = RandomForestRegressor(random_state=42, n_estimators=20)\n",
    "\n",
    "# Measure training time\n",
    "start_time_train = time.time()\n",
    "rf_model.fit(X_train, y_train)\n",
    "end_time_train = time.time()\n",
    "training_time_rf = end_time_train - start_time_train\n",
    "\n",
    "print(f\"Random Forest Training Time: {training_time_rf:.4f} seconds\")\n",
    "\n",
    "# Measure prediction time\n",
    "start_time_predict = time.time()\n",
    "y_pred_rf = rf_model.predict(X_test)\n",
    "end_time_predict = time.time()\n",
    "prediction_time_rf = end_time_predict - start_time_predict\n",
    "\n",
    "print(f\"Random Forest Prediction Time: {prediction_time_rf:.4f} seconds\")\n",
    "\n",
    "# Calculate RMSE\n",
    "rmse_rf = mean_squared_error(y_test, y_pred_rf, squared=False)\n",
    "print(f\"Random Forest RMSE: {rmse_rf:.2f}\")"
   ]
  },
  {
   "cell_type": "code",
   "execution_count": 8,
   "metadata": {},
   "outputs": [
    {
     "name": "stdout",
     "output_type": "stream",
     "text": [
      "LightGBM Training Time: 20.6061 seconds\n",
      "LightGBM Prediction Time: 0.5206 seconds\n",
      "LightGBM RMSE: 1746.65\n"
     ]
    }
   ],
   "source": [
    "# 2.4 LightGBM Regressor\n",
    "\n",
    "import lightgbm as lgb\n",
    "\n",
    "# Train LightGBM model\n",
    "lgb_model = lgb.LGBMRegressor(random_state=42, n_estimators=100)\n",
    "\n",
    "# Measure training time\n",
    "start_time_train = time.time()\n",
    "lgb_model.fit(X_train, y_train)\n",
    "end_time_train = time.time()\n",
    "training_time_lgb = end_time_train - start_time_train\n",
    "\n",
    "print(f\"LightGBM Training Time: {training_time_lgb:.4f} seconds\")\n",
    "\n",
    "# Measure prediction time\n",
    "start_time_predict = time.time()\n",
    "y_pred_lgb = lgb_model.predict(X_test)\n",
    "end_time_predict = time.time()\n",
    "prediction_time_lgb = end_time_predict - start_time_predict\n",
    "\n",
    "print(f\"LightGBM Prediction Time: {prediction_time_lgb:.4f} seconds\")\n",
    "\n",
    "# Calculate RMSE\n",
    "rmse_lgb = mean_squared_error(y_test, y_pred_lgb, squared=False)\n",
    "print(f\"LightGBM RMSE: {rmse_lgb:.2f}\")"
   ]
  },
  {
   "cell_type": "code",
   "execution_count": 9,
   "metadata": {},
   "outputs": [
    {
     "name": "stdout",
     "output_type": "stream",
     "text": [
      "Best Random Forest Training Time: 67.8628 seconds\n",
      "Best Random Forest Prediction Time: 0.3556 seconds\n",
      "Best Random Forest RMSE: 1662.61\n"
     ]
    }
   ],
   "source": [
    "# 2.5 Random Forest Hyperparameter Tuning\n",
    "\n",
    "from sklearn.model_selection import GridSearchCV\n",
    "\n",
    "# Define hyperparameters for Random Forest\n",
    "param_grid_rf = {\n",
    "    'n_estimators': [10, 20],\n",
    "    'max_depth': [10, 20]\n",
    "}\n",
    "\n",
    "# Perform GridSearchCV\n",
    "grid_rf = GridSearchCV(RandomForestRegressor(random_state=42), param_grid_rf, cv=3, scoring='neg_mean_squared_error')\n",
    "grid_rf.fit(X_train, y_train)\n",
    "\n",
    "# Extract the best model from GridSearchCV\n",
    "best_rf_model = grid_rf.best_estimator_\n",
    "\n",
    "# Retrain the best model and measure training time\n",
    "start_time_train = time.time()\n",
    "best_rf_model.fit(X_train, y_train)\n",
    "end_time_train = time.time()\n",
    "training_time_best_rf = end_time_train - start_time_train\n",
    "\n",
    "print(f\"Best Random Forest Training Time: {training_time_best_rf:.4f} seconds\")\n",
    "\n",
    "# Measure prediction time\n",
    "start_time_predict = time.time()\n",
    "y_pred_rf_tuned = best_rf_model.predict(X_test)\n",
    "end_time_predict = time.time()\n",
    "prediction_time_best_rf = end_time_predict - start_time_predict\n",
    "\n",
    "print(f\"Best Random Forest Prediction Time: {prediction_time_best_rf:.4f} seconds\")\n",
    "\n",
    "# Calculate RMSE\n",
    "rmse_rf_tuned = mean_squared_error(y_test, y_pred_rf_tuned, squared=False)\n",
    "print(f\"Best Random Forest RMSE: {rmse_rf_tuned:.2f}\")"
   ]
  },
  {
   "cell_type": "code",
   "execution_count": 10,
   "metadata": {},
   "outputs": [
    {
     "name": "stdout",
     "output_type": "stream",
     "text": [
      "Best LightGBM RMSE: 1754.31\n"
     ]
    }
   ],
   "source": [
    "# 2.6 LightGBM Hyperparameter Tuning\n",
    "\n",
    "param_grid_lgb = {\n",
    "    'n_estimators': [10, 20, 30],\n",
    "    'learning_rate': [0.01, 0.1, 0.5]\n",
    "}\n",
    "\n",
    "grid_lgb = GridSearchCV(lgb.LGBMRegressor(random_state=42), param_grid_lgb, cv=3, scoring='neg_mean_squared_error')\n",
    "grid_lgb.fit(X_train, y_train)\n",
    "\n",
    "# Best parameters and RMSE\n",
    "best_lgb_model = grid_lgb.best_estimator_\n",
    "y_pred_lgb_tuned = best_lgb_model.predict(X_test)\n",
    "rmse_lgb_tuned = mean_squared_error(y_test, y_pred_lgb_tuned, squared=False)\n",
    "print(f\"Best LightGBM RMSE: {rmse_lgb_tuned:.2f}\")\n"
   ]
  },
  {
   "cell_type": "markdown",
   "metadata": {},
   "source": [
    "###### Conclusions\n",
    "We can see that Linear Regression has the highest RMSE, indicating that it is not suitable for the task.\n",
    "\n",
    "Random Forest has the lowest RMSE, indicating it is a good performing model in terms of prediction accuracy, but was slow in terms of speed.\n",
    "\n",
    "The LightGBM has a low RMSE and is fast, indicating it is the best performing model in terms of prediction accuracy and speed."
   ]
  },
  {
   "cell_type": "markdown",
   "metadata": {},
   "source": [
    "## Model analysis"
   ]
  },
  {
   "cell_type": "code",
   "execution_count": 11,
   "metadata": {},
   "outputs": [
    {
     "name": "stdout",
     "output_type": "stream",
     "text": [
      "                Model         RMSE  Training Time (s)  Prediction Time (s)\n",
      "0   Linear Regression  3123.729001          13.821873             0.124423\n",
      "1       Decision Tree  2046.313587           6.401753             0.079307\n",
      "2       Random Forest  1647.063171          79.956377             0.668865\n",
      "3            LightGBM  1746.649490          20.606094             0.520574\n",
      "4  Best Random Forest  1662.607310          67.862769             0.355610\n"
     ]
    },
    {
     "data": {
      "image/png": "[encoded data removed]",
      "text/plain": [
       "<Figure size 1000x600 with 1 Axes>"
      ]
     },
     "metadata": {},
     "output_type": "display_data"
    },
    {
     "data": {
      "image/png": "[encoded data removed]",
      "text/plain": [
       "<Figure size 1000x600 with 1 Axes>"
      ]
     },
     "metadata": {},
     "output_type": "display_data"
    },
    {
     "data": {
      "image/png": "[encoded data removed]",
      "text/plain": [
       "<Figure size 1000x600 with 1 Axes>"
      ]
     },
     "metadata": {},
     "output_type": "display_data"
    }
   ],
   "source": [
    "import pandas as pd\n",
    "import matplotlib.pyplot as plt\n",
    "\n",
    "# Data for comparison\n",
    "model_performance = pd.DataFrame({\n",
    "    'Model': ['Linear Regression', 'Decision Tree', 'Random Forest', 'LightGBM', 'Best Random Forest'],\n",
    "    'RMSE': [rmse_lr, rmse_dt, rmse_rf, rmse_lgb, rmse_rf_tuned],\n",
    "    'Training Time (s)': [training_time_lr, training_time_dt, training_time_rf, training_time_lgb, training_time_best_rf],\n",
    "    'Prediction Time (s)': [prediction_time_lr, prediction_time_dt, prediction_time_rf, prediction_time_lgb, prediction_time_best_rf]\n",
    "})\n",
    "\n",
    "print(model_performance)\n",
    "\n",
    "# Plot RMSE comparison\n",
    "plt.figure(figsize=(10, 6))\n",
    "plt.barh(model_performance['Model'], model_performance['RMSE'], color='skyblue')\n",
    "plt.xlabel('RMSE')\n",
    "plt.title('Model Performance Comparison (RMSE)')\n",
    "plt.show()\n",
    "\n",
    "# Plot Training Time comparison\n",
    "plt.figure(figsize=(10, 6))\n",
    "plt.barh(model_performance['Model'], model_performance['Training Time (s)'], color='green')\n",
    "plt.xlabel('Training Time (s)')\n",
    "plt.title('Model Training Time Comparison')\n",
    "plt.show()\n",
    "\n",
    "# Plot Prediction Time comparison\n",
    "plt.figure(figsize=(10, 6))\n",
    "plt.barh(model_performance['Model'], model_performance['Prediction Time (s)'], color='orange')\n",
    "plt.xlabel('Prediction Time (s)')\n",
    "plt.title('Model Prediction Time Comparison')\n",
    "plt.show()\n"
   ]
  },
  {
   "cell_type": "markdown",
   "metadata": {},
   "source": [
    "## Conclusion\n",
    "\n",
    "After evaluating various models, we observed that:\n",
    "\n",
    "1. **Linear Regression** performed the worst as expected, and it served as a sanity check for more complex models.\n",
    "2. **Decision Tree** improved over Linear Regression, but it still produced a relatively high RMSE.\n",
    "3. **Random Forest** performed significantly better than both Decision Tree and Linear Regression.\n",
    "4. **LightGBM** provided competitive performance with a faster training time.\n",
    "5. After **hyperparameter tuning**, both Random Forest and LightGBM further improved their performance, with LightGBM being the overall best model in terms of both **speed** and **accuracy**.\n",
    "\n",
    "Based on these findings, LightGBM is the most suitable model for the Rusty Bargain used car price prediction task due to its high prediction quality and fast training time.\n"
   ]
  },
  {
   "cell_type": "markdown",
   "metadata": {},
   "source": [
    "<div class=\"alert alert-block alert-danger\">\n",
    "<b>Reviewer's comment V1</b> <a class=\"tocSkip\"></a>\n",
    "\n",
    "Well done! You only forgot to measure prediction and traning time for each model. These are two different times. And don't forget that GridSearchCV traning time and model traning time are not the same things. If you're using  GridSearchCV, you need to select the best model, retrain it on train data and measure this time. And in models analysis part you need to consider not only rmse, but also prediction and training times.\n",
    "    \n",
    "</div>"
   ]
  },
  {
   "cell_type": "markdown",
   "metadata": {},
   "source": [
    "<div class=\"alert alert-block alert-success\">\n",
    "<b>Reviewer's comment V2</b> <a class=\"tocSkip\"></a>\n",
    "\n",
    "Now everything is correct. Good job!\n",
    "    \n",
    "</div>"
   ]
  },
  {
   "cell_type": "markdown",
   "metadata": {},
   "source": [
    "# Checklist"
   ]
  },
  {
   "cell_type": "markdown",
   "metadata": {},
   "source": [
    "Type 'x' to check. Then press Shift+Enter."
   ]
  },
  {
   "cell_type": "markdown",
   "metadata": {},
   "source": [
    "- [x]  Jupyter Notebook is open\n",
    "- [ ]  Code is error free\n",
    "- [ ]  The cells with the code have been arranged in order of execution\n",
    "- [ ]  The data has been downloaded and prepared\n",
    "- [ ]  The models have been trained\n",
    "- [ ]  The analysis of speed and quality of the models has been performed"
   ]
  }
 ],
 "metadata": {
  "ExecuteTimeLog": [
   {
    "duration": 929,
    "start_time": "2024-10-01T13:54:23.582Z"
   },
   {
    "duration": 895,
    "start_time": "2024-10-01T13:54:27.592Z"
   },
   {
    "duration": 124,
    "start_time": "2024-10-01T13:56:09.912Z"
   },
   {
    "duration": 1474,
    "start_time": "2024-10-01T13:56:12.291Z"
   },
   {
    "duration": 526,
    "start_time": "2024-10-01T13:57:15.693Z"
   },
   {
    "duration": 526,
    "start_time": "2024-10-01T13:57:52.349Z"
   },
   {
    "duration": 11031,
    "start_time": "2024-10-01T13:58:38.656Z"
   },
   {
    "duration": 6027,
    "start_time": "2024-10-01T13:59:50.821Z"
   },
   {
    "duration": 866,
    "start_time": "2024-10-01T14:01:08.713Z"
   },
   {
    "duration": 120,
    "start_time": "2024-10-01T14:01:09.581Z"
   },
   {
    "duration": 1400,
    "start_time": "2024-10-01T14:01:09.703Z"
   },
   {
    "duration": 11114,
    "start_time": "2024-10-01T14:01:11.105Z"
   },
   {
    "duration": 6133,
    "start_time": "2024-10-01T14:01:22.222Z"
   },
   {
    "duration": 862,
    "start_time": "2024-10-01T14:07:24.845Z"
   },
   {
    "duration": 129,
    "start_time": "2024-10-01T14:07:25.709Z"
   },
   {
    "duration": 1378,
    "start_time": "2024-10-01T14:07:25.840Z"
   },
   {
    "duration": 10909,
    "start_time": "2024-10-01T14:07:27.220Z"
   },
   {
    "duration": 6258,
    "start_time": "2024-10-01T14:07:38.132Z"
   },
   {
    "duration": 37569,
    "start_time": "2024-10-01T14:07:44.392Z"
   },
   {
    "duration": 5223,
    "start_time": "2024-10-01T14:08:21.964Z"
   },
   {
    "duration": 885,
    "start_time": "2024-10-01T14:13:43.508Z"
   },
   {
    "duration": 121,
    "start_time": "2024-10-01T14:13:44.396Z"
   },
   {
    "duration": 1394,
    "start_time": "2024-10-01T14:13:44.519Z"
   },
   {
    "duration": 11077,
    "start_time": "2024-10-01T14:13:45.914Z"
   },
   {
    "duration": 5948,
    "start_time": "2024-10-01T14:13:56.993Z"
   },
   {
    "duration": 860,
    "start_time": "2024-10-01T14:17:11.183Z"
   },
   {
    "duration": 131,
    "start_time": "2024-10-01T14:17:12.046Z"
   },
   {
    "duration": 1446,
    "start_time": "2024-10-01T14:17:12.179Z"
   },
   {
    "duration": 10978,
    "start_time": "2024-10-01T14:17:13.627Z"
   },
   {
    "duration": 5957,
    "start_time": "2024-10-01T14:17:24.607Z"
   },
   {
    "duration": 882,
    "start_time": "2024-10-01T14:17:39.318Z"
   },
   {
    "duration": 127,
    "start_time": "2024-10-01T14:17:40.202Z"
   },
   {
    "duration": 1380,
    "start_time": "2024-10-01T14:17:40.330Z"
   },
   {
    "duration": 10911,
    "start_time": "2024-10-01T14:17:41.712Z"
   },
   {
    "duration": 6066,
    "start_time": "2024-10-01T14:17:52.627Z"
   },
   {
    "duration": 37314,
    "start_time": "2024-10-01T14:17:58.695Z"
   },
   {
    "duration": 5077,
    "start_time": "2024-10-01T14:18:36.011Z"
   },
   {
    "duration": 2015,
    "start_time": "2024-10-01T14:18:41.090Z"
   },
   {
    "duration": 886,
    "start_time": "2024-10-01T14:21:12.745Z"
   },
   {
    "duration": 124,
    "start_time": "2024-10-01T14:21:13.634Z"
   },
   {
    "duration": 1452,
    "start_time": "2024-10-01T14:21:13.759Z"
   },
   {
    "duration": 11177,
    "start_time": "2024-10-01T14:21:15.213Z"
   },
   {
    "duration": 6131,
    "start_time": "2024-10-01T14:21:26.394Z"
   },
   {
    "duration": 76381,
    "start_time": "2024-10-01T14:21:32.526Z"
   },
   {
    "duration": 6382,
    "start_time": "2024-10-01T14:22:48.908Z"
   },
   {
    "duration": 296,
    "start_time": "2024-10-01T14:22:55.293Z"
   },
   {
    "duration": 826,
    "start_time": "2024-10-01T14:26:09.964Z"
   },
   {
    "duration": 130,
    "start_time": "2024-10-01T14:26:10.792Z"
   },
   {
    "duration": 1390,
    "start_time": "2024-10-01T14:26:10.924Z"
   },
   {
    "duration": 12175,
    "start_time": "2024-10-01T14:26:12.317Z"
   },
   {
    "duration": 6006,
    "start_time": "2024-10-01T14:26:24.496Z"
   },
   {
    "duration": 74682,
    "start_time": "2024-10-01T14:26:30.504Z"
   },
   {
    "duration": 5200,
    "start_time": "2024-10-01T14:27:45.188Z"
   },
   {
    "duration": 850,
    "start_time": "2024-10-01T14:28:59.547Z"
   },
   {
    "duration": 121,
    "start_time": "2024-10-01T14:29:00.400Z"
   },
   {
    "duration": 1402,
    "start_time": "2024-10-01T14:29:00.523Z"
   },
   {
    "duration": 10896,
    "start_time": "2024-10-01T14:29:01.929Z"
   },
   {
    "duration": 6054,
    "start_time": "2024-10-01T14:29:12.827Z"
   },
   {
    "duration": 75788,
    "start_time": "2024-10-01T14:29:18.887Z"
   },
   {
    "duration": 5109,
    "start_time": "2024-10-01T14:30:34.677Z"
   },
   {
    "duration": 838,
    "start_time": "2024-10-01T14:38:38.070Z"
   },
   {
    "duration": 123,
    "start_time": "2024-10-01T14:38:38.910Z"
   },
   {
    "duration": 1384,
    "start_time": "2024-10-01T14:38:39.035Z"
   },
   {
    "duration": 11170,
    "start_time": "2024-10-01T14:38:40.420Z"
   },
   {
    "duration": 6081,
    "start_time": "2024-10-01T14:38:51.593Z"
   },
   {
    "duration": 74531,
    "start_time": "2024-10-01T14:38:57.676Z"
   },
   {
    "duration": 5189,
    "start_time": "2024-10-01T14:40:12.208Z"
   },
   {
    "duration": 370771,
    "start_time": "2024-10-01T14:40:17.399Z"
   },
   {
    "duration": 65522,
    "start_time": "2024-10-01T14:46:28.172Z"
   },
   {
    "duration": 329,
    "start_time": "2024-10-01T14:47:33.696Z"
   },
   {
    "duration": 865,
    "start_time": "2024-10-01T19:17:20.981Z"
   },
   {
    "duration": 910,
    "start_time": "2024-10-01T19:17:34.042Z"
   },
   {
    "duration": 121,
    "start_time": "2024-10-01T19:17:34.955Z"
   },
   {
    "duration": 1318,
    "start_time": "2024-10-01T19:17:35.078Z"
   },
   {
    "duration": 10983,
    "start_time": "2024-10-01T19:17:36.398Z"
   },
   {
    "duration": 0,
    "start_time": "2024-10-01T19:17:47.383Z"
   },
   {
    "duration": 0,
    "start_time": "2024-10-01T19:17:47.384Z"
   },
   {
    "duration": 0,
    "start_time": "2024-10-01T19:17:47.385Z"
   },
   {
    "duration": 0,
    "start_time": "2024-10-01T19:17:47.386Z"
   },
   {
    "duration": 0,
    "start_time": "2024-10-01T19:17:47.388Z"
   },
   {
    "duration": 0,
    "start_time": "2024-10-01T19:17:47.389Z"
   },
   {
    "duration": 10591,
    "start_time": "2024-10-01T19:18:56.316Z"
   },
   {
    "duration": 848,
    "start_time": "2024-10-01T19:19:18.573Z"
   },
   {
    "duration": 120,
    "start_time": "2024-10-01T19:19:19.423Z"
   },
   {
    "duration": 1318,
    "start_time": "2024-10-01T19:19:19.544Z"
   },
   {
    "duration": 10527,
    "start_time": "2024-10-01T19:19:20.864Z"
   },
   {
    "duration": 5837,
    "start_time": "2024-10-01T19:19:31.395Z"
   },
   {
    "duration": 77076,
    "start_time": "2024-10-01T19:19:37.234Z"
   },
   {
    "duration": 23367,
    "start_time": "2024-10-01T19:20:54.312Z"
   },
   {
    "duration": 395504,
    "start_time": "2024-10-01T19:21:17.685Z"
   },
   {
    "duration": 87787,
    "start_time": "2024-10-01T19:27:53.198Z"
   },
   {
    "duration": 2058,
    "start_time": "2024-10-01T19:29:20.987Z"
   },
   {
    "duration": 862,
    "start_time": "2024-10-01T19:29:35.014Z"
   },
   {
    "duration": 128,
    "start_time": "2024-10-01T19:29:35.879Z"
   },
   {
    "duration": 1410,
    "start_time": "2024-10-01T19:29:36.009Z"
   },
   {
    "duration": 10756,
    "start_time": "2024-10-01T19:29:37.421Z"
   },
   {
    "duration": 5785,
    "start_time": "2024-10-01T19:29:48.181Z"
   },
   {
    "duration": 79857,
    "start_time": "2024-10-01T19:29:53.970Z"
   },
   {
    "duration": 154249,
    "start_time": "2024-10-01T19:31:13.830Z"
   },
   {
    "duration": 1070,
    "start_time": "2024-10-01T19:38:31.707Z"
   },
   {
    "duration": 182,
    "start_time": "2024-10-01T19:38:32.779Z"
   },
   {
    "duration": 1593,
    "start_time": "2024-10-01T19:38:32.963Z"
   },
   {
    "duration": 12269,
    "start_time": "2024-10-01T19:38:34.560Z"
   },
   {
    "duration": 12779,
    "start_time": "2024-10-01T19:38:46.835Z"
   },
   {
    "duration": 6374,
    "start_time": "2024-10-01T19:38:59.617Z"
   },
   {
    "duration": 6272,
    "start_time": "2024-10-01T19:39:05.993Z"
   },
   {
    "duration": 78919,
    "start_time": "2024-10-01T19:39:12.271Z"
   },
   {
    "duration": 78379,
    "start_time": "2024-10-01T19:40:31.192Z"
   },
   {
    "duration": 21405,
    "start_time": "2024-10-01T19:41:49.573Z"
   },
   {
    "duration": 5009,
    "start_time": "2024-10-01T19:42:10.981Z"
   },
   {
    "duration": 929,
    "start_time": "2024-10-01T19:45:36.837Z"
   },
   {
    "duration": 139,
    "start_time": "2024-10-01T19:45:37.768Z"
   },
   {
    "duration": 1523,
    "start_time": "2024-10-01T19:45:37.909Z"
   },
   {
    "duration": 13507,
    "start_time": "2024-10-01T19:45:39.433Z"
   },
   {
    "duration": 13982,
    "start_time": "2024-10-01T19:45:52.943Z"
   },
   {
    "duration": 6551,
    "start_time": "2024-10-01T19:46:06.926Z"
   },
   {
    "duration": 80639,
    "start_time": "2024-10-01T19:46:13.490Z"
   },
   {
    "duration": 21188,
    "start_time": "2024-10-01T19:47:34.131Z"
   },
   {
    "duration": 469108,
    "start_time": "2024-10-01T19:47:55.377Z"
   },
   {
    "duration": 130708,
    "start_time": "2024-10-01T19:55:44.494Z"
   },
   {
    "duration": 546,
    "start_time": "2024-10-01T19:57:55.203Z"
   }
  ],
  "kernelspec": {
   "display_name": "Python 3 (ipykernel)",
   "language": "python",
   "name": "python3"
  },
  "language_info": {
   "codemirror_mode": {
    "name": "ipython",
    "version": 3
   },
   "file_extension": ".py",
   "mimetype": "text/x-python",
   "name": "python",
   "nbconvert_exporter": "python",
   "pygments_lexer": "ipython3",
   "version": "3.9.19"
  },
  "toc": {
   "base_numbering": 1,
   "nav_menu": {},
   "number_sections": true,
   "sideBar": true,
   "skip_h1_title": true,
   "title_cell": "Table of Contents",
   "title_sidebar": "Contents",
   "toc_cell": false,
   "toc_position": {},
   "toc_section_display": true,
   "toc_window_display": false
  }
 },
 "nbformat": 4,
 "nbformat_minor": 2
}
